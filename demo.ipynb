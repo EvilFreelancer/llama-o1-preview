{
 "cells": [
  {
   "metadata": {},
   "cell_type": "code",
   "outputs": [],
   "execution_count": null,
   "source": [
    "from ollama import Client\n",
    "\n",
    "client = Client(host='http://gpu02:11434')"
   ],
   "id": "836399f8304771ff"
  },
  {
   "metadata": {
    "collapsed": true
   },
   "cell_type": "code",
   "outputs": [],
   "execution_count": null,
   "source": [
    "cot_prompt = open('cot-prompt.txt', 'r').read()\n",
    "basic_prompt = open('basic-prompt.txt', 'r').read()\n",
    "\n",
    "cot_model = 'gemma2:9b'\n",
    "basic_model = 'gemma2:9b'"
   ],
   "id": "initial_id"
  },
  {
   "metadata": {},
   "cell_type": "code",
   "outputs": [],
   "execution_count": null,
   "source": [
    "from chat_history import ChatHistory\n",
    "\n",
    "basic_history = ChatHistory(system_prompt=basic_prompt, history_limit=4)"
   ],
   "id": "c7a6bb9de568a2e6"
  },
  {
   "metadata": {},
   "cell_type": "code",
   "source": [
    "while True:\n",
    "    user_message = input(\"User: \")\n",
    "\n",
    "    # Reset chat command\n",
    "    if user_message.strip() == \"/reset\":\n",
    "        basic_history = ChatHistory(system_prompt=basic_prompt, history_limit=4)\n",
    "        print(\"History reset completed!\")\n",
    "        continue\n",
    "\n",
    "    # Skip empty messages from user\n",
    "    if user_message.strip() == \"\":\n",
    "        continue\n",
    "\n",
    "    # Thinking....\n",
    "    cot_history = ChatHistory(system_prompt=cot_prompt, history_limit=1)\n",
    "    cot_history.add_user_message(user_message)\n",
    "    cot_messages = cot_history.get_messages()\n",
    "\n",
    "    print(cot_messages)\n",
    "\n",
    "    cot_response = client.chat(model=cot_model, messages=cot_messages)\n",
    "    cot_output = cot_response['message']['content']\n",
    "\n",
    "    print(\">>>>>>>>>>THINKING>>>>>>>>>>>>\")\n",
    "    print(cot_output)\n",
    "    print(\">>>>>>>>>/THINKING>>>>>>>>>>>>\")\n",
    "\n",
    "    # Add messages\n",
    "    basic_history.add_user_message(user_message)\n",
    "    basic_history.add_think_message(cot_output)\n",
    "\n",
    "    # Add user message to chat\n",
    "    basic_history.add_user_message(user_message)\n",
    "    basic_messages = basic_history.get_messages()\n",
    "\n",
    "    print(basic_messages)\n",
    "\n",
    "    basic_response = client.chat(model=basic_model, messages=basic_messages)\n",
    "    output = basic_response['message']['content']\n",
    "    basic_history.add_assistant_message(output)\n",
    "\n",
    "    print(\"Bot:\", output)\n",
    "    print()\n",
    "    print(\"==============================\")\n",
    "    print()"
   ],
   "id": "2ae06be6a987cce2",
   "outputs": [],
   "execution_count": null
  }
 ],
 "metadata": {
  "kernelspec": {
   "display_name": "Python 3",
   "language": "python",
   "name": "python3"
  },
  "language_info": {
   "codemirror_mode": {
    "name": "ipython",
    "version": 2
   },
   "file_extension": ".py",
   "mimetype": "text/x-python",
   "name": "python",
   "nbconvert_exporter": "python",
   "pygments_lexer": "ipython2",
   "version": "2.7.6"
  }
 },
 "nbformat": 4,
 "nbformat_minor": 5
}
